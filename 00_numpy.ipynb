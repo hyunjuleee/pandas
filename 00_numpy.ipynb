{
 "cells": [
  {
   "cell_type": "code",
   "execution_count": 3,
   "id": "6c64425b-2072-469e-922c-b3a447b5438c",
   "metadata": {},
   "outputs": [],
   "source": [
    "import numpy as np"
   ]
  },
  {
   "cell_type": "code",
   "execution_count": 6,
   "id": "7781d900-8cdd-46a5-b508-61decfccc420",
   "metadata": {},
   "outputs": [],
   "source": [
    "my_arr = np.arange(1000000)\n",
    "my_list = list(range(1000000))"
   ]
  },
  {
   "cell_type": "code",
   "execution_count": 8,
   "id": "a4732b93-54db-4159-9122-ddb050b149aa",
   "metadata": {},
   "outputs": [
    {
     "name": "stdout",
     "output_type": "stream",
     "text": [
      "1.97 ms ± 15.4 μs per loop (mean ± std. dev. of 7 runs, 100 loops each)\n",
      "53.5 ms ± 1.67 ms per loop (mean ± std. dev. of 7 runs, 10 loops each)\n"
     ]
    }
   ],
   "source": [
    "%timeit my_arr2 = my_arr * 2\n",
    "%timeit my_list2 = [x * 2 for x in my_list]"
   ]
  },
  {
   "cell_type": "code",
   "execution_count": 10,
   "id": "32c608f9-e64e-4f1e-a97a-fcd70475315e",
   "metadata": {},
   "outputs": [
    {
     "name": "stdout",
     "output_type": "stream",
     "text": [
      "[[   5.     1.1   -5. ]\n",
      " [ 123.  -123.     0. ]]\n"
     ]
    }
   ],
   "source": [
    "a = [\n",
    "    [5, 1.1, -5],\n",
    "    [123, -123, 0]\n",
    "]\n",
    "data = np.array(a)\n",
    "print(data)"
   ]
  },
  {
   "cell_type": "code",
   "execution_count": 13,
   "id": "c6bb1bbb-aaf3-4c38-925b-d3352cc3316a",
   "metadata": {},
   "outputs": [
    {
     "name": "stdout",
     "output_type": "stream",
     "text": [
      "[[   50.    11.   -50.]\n",
      " [ 1230. -1230.     0.]]\n",
      "[[  10.     2.2  -10. ]\n",
      " [ 246.  -246.     0. ]]\n"
     ]
    }
   ],
   "source": [
    "print(data * 10)\n",
    "print(data + data)"
   ]
  },
  {
   "cell_type": "code",
   "execution_count": 16,
   "id": "b90734a9-024b-48b5-b5b5-feea99df4bf7",
   "metadata": {},
   "outputs": [
    {
     "name": "stdout",
     "output_type": "stream",
     "text": [
      "(2, 3)\n",
      "float64\n"
     ]
    }
   ],
   "source": [
    "print(data.shape)\n",
    "print(data.dtype)"
   ]
  },
  {
   "cell_type": "markdown",
   "id": "00f42ef0-a858-4eb4-9160-40a8f9ebb4d1",
   "metadata": {},
   "source": [
    "## 1.1 ndarray 생성"
   ]
  },
  {
   "cell_type": "code",
   "execution_count": 19,
   "id": "ac3a644d-22dd-4ac8-a37f-116a7d38b5ad",
   "metadata": {},
   "outputs": [
    {
     "name": "stdout",
     "output_type": "stream",
     "text": [
      "[4.  1.  2.  6.  3.1]\n"
     ]
    }
   ],
   "source": [
    "my_list = [4, 1, 2, 6, 3.1]\n",
    "arr = np.array(my_list)\n",
    "print(arr)"
   ]
  },
  {
   "cell_type": "code",
   "execution_count": 20,
   "id": "cba726e6-ce9a-47da-b1e7-cbad23aa0101",
   "metadata": {},
   "outputs": [
    {
     "name": "stdout",
     "output_type": "stream",
     "text": [
      "[[1 2 3 4]\n",
      " [5 6 7 8]]\n"
     ]
    }
   ],
   "source": [
    "my_list2 = [[1, 2, 3, 4], [5, 6, 7, 8]]\n",
    "arr2 = np.array(my_list2)\n",
    "print(arr2)"
   ]
  },
  {
   "cell_type": "code",
   "execution_count": 22,
   "id": "ae25e91c-caa9-4ceb-a095-2e4d01457865",
   "metadata": {},
   "outputs": [
    {
     "name": "stdout",
     "output_type": "stream",
     "text": [
      "float64\n",
      "int64\n"
     ]
    }
   ],
   "source": [
    "print(arr.dtype)\n",
    "print(arr2.dtype)"
   ]
  },
  {
   "cell_type": "code",
   "execution_count": 23,
   "id": "7b68e4ab-34f1-40ae-8690-08094679d52b",
   "metadata": {},
   "outputs": [
    {
     "name": "stdout",
     "output_type": "stream",
     "text": [
      "1\n",
      "2\n"
     ]
    }
   ],
   "source": [
    "print(arr.ndim)\n",
    "print(arr2.ndim)"
   ]
  },
  {
   "cell_type": "code",
   "execution_count": 24,
   "id": "c63a581f-01ac-443c-a0f2-2b364e300df4",
   "metadata": {},
   "outputs": [
    {
     "name": "stdout",
     "output_type": "stream",
     "text": [
      "(5,)\n",
      "(2, 4)\n"
     ]
    }
   ],
   "source": [
    "print(arr.shape)\n",
    "print(arr2.shape)"
   ]
  },
  {
   "cell_type": "code",
   "execution_count": 29,
   "id": "f22cf179-078d-4b64-b124-bdf83c86b3d7",
   "metadata": {},
   "outputs": [
    {
     "name": "stdout",
     "output_type": "stream",
     "text": [
      "[0. 0. 0. 0. 0. 0. 0. 0. 0. 0.]\n",
      "[[0. 0. 0. 0. 0.]\n",
      " [0. 0. 0. 0. 0.]\n",
      " [0. 0. 0. 0. 0.]\n",
      " [0. 0. 0. 0. 0.]\n",
      " [0. 0. 0. 0. 0.]]\n",
      "[[[6.23042070e-307 4.67296746e-307 1.69121096e-306 8.90067740e-308]\n",
      "  [9.34577196e-307 1.37962456e-306 3.22647253e-307 7.56601165e-307]\n",
      "  [1.69118787e-306 1.33511290e-306 1.11258854e-306 1.11261502e-306]]\n",
      "\n",
      " [[1.42410839e-306 7.56597770e-307 6.23059726e-307 1.11260483e-306]\n",
      "  [9.79107193e-307 1.33511290e-306 1.02359645e-306 1.86919785e-306]\n",
      "  [7.56587585e-307 1.78020984e-306 1.37961709e-306 2.22522596e-306]]]\n"
     ]
    }
   ],
   "source": [
    "print(np.zeros(10))\n",
    "print(np.zeros((5, 5)))\n",
    "print(np.empty((2, 3, 4)))"
   ]
  },
  {
   "cell_type": "code",
   "execution_count": 30,
   "id": "1f33449b-06c7-4e44-ab94-f7dcbd1f6058",
   "metadata": {},
   "outputs": [
    {
     "name": "stdout",
     "output_type": "stream",
     "text": [
      "[ 0  1  2  3  4  5  6  7  8  9 10 11]\n"
     ]
    }
   ],
   "source": [
    "print(np.arange(12))"
   ]
  },
  {
   "cell_type": "markdown",
   "id": "a67efee6-e06e-4230-9ee1-3544694bf301",
   "metadata": {},
   "source": [
    "## 1.2 자료형"
   ]
  },
  {
   "cell_type": "code",
   "execution_count": 32,
   "id": "580315eb-a612-4c8c-be80-d8d03d547bfd",
   "metadata": {},
   "outputs": [
    {
     "name": "stdout",
     "output_type": "stream",
     "text": [
      "float64\n",
      "int32\n"
     ]
    }
   ],
   "source": [
    "arr1 = np.array([1, 2, 3], dtype=np.float64)\n",
    "arr2 = np.array([1, 2, 3], dtype=np.int32)\n",
    "\n",
    "print(arr1.dtype)\n",
    "print(arr2.dtype)"
   ]
  },
  {
   "cell_type": "code",
   "execution_count": 34,
   "id": "0c038f76-7893-4236-887b-e33d01eeac53",
   "metadata": {},
   "outputs": [
    {
     "name": "stdout",
     "output_type": "stream",
     "text": [
      "[1 2 3 4 5]\n",
      "[1. 2. 3. 4. 5.]\n",
      "float32\n"
     ]
    }
   ],
   "source": [
    "arr = np.array([1, 2, 3, 4, 5])\n",
    "print(arr)\n",
    "float_arr = arr.astype(np.float32)\n",
    "print(float_arr)\n",
    "print(float_arr.dtype)"
   ]
  },
  {
   "cell_type": "code",
   "execution_count": 35,
   "id": "87b817b9-92c0-46c8-9e25-3a9c6380c0e9",
   "metadata": {},
   "outputs": [
    {
     "name": "stdout",
     "output_type": "stream",
     "text": [
      "[ 1  2  3 -1 -2 -3]\n"
     ]
    }
   ],
   "source": [
    "arr = np.array([1.1, 2.2, 3.3, -1.1, -2.2, -3.3])\n",
    "result = arr.astype(np.int32)\n",
    "print(result)"
   ]
  },
  {
   "cell_type": "code",
   "execution_count": 36,
   "id": "2bf77a16-0636-47e4-b07c-7db951de3737",
   "metadata": {},
   "outputs": [
    {
     "name": "stdout",
     "output_type": "stream",
     "text": [
      "[12 34 56]\n"
     ]
    }
   ],
   "source": [
    "result = np.array(['12', '34', '56'], dtype=np.int32)\n",
    "print(result)"
   ]
  },
  {
   "cell_type": "markdown",
   "id": "7171ae84-1ae8-4412-8335-58638f3c87bb",
   "metadata": {},
   "source": [
    "## 1.3 연산"
   ]
  },
  {
   "cell_type": "code",
   "execution_count": 38,
   "id": "fdd0548c-a112-4eee-bc7c-439392d5294c",
   "metadata": {},
   "outputs": [],
   "source": [
    "a = [\n",
    "    [1, 2, 3],\n",
    "    [4, 5, 6]\n",
    "]\n",
    "arr = np.array(a)"
   ]
  },
  {
   "cell_type": "code",
   "execution_count": 39,
   "id": "38424a09-5e56-43ac-84a0-d495dd74af1f",
   "metadata": {},
   "outputs": [
    {
     "name": "stdout",
     "output_type": "stream",
     "text": [
      "[[1 2 3]\n",
      " [4 5 6]]\n"
     ]
    }
   ],
   "source": [
    "print(arr)"
   ]
  },
  {
   "cell_type": "code",
   "execution_count": 41,
   "id": "3d48b94b-2fec-44c6-83dc-7ec87e62c676",
   "metadata": {},
   "outputs": [
    {
     "name": "stdout",
     "output_type": "stream",
     "text": [
      "[[ 2  4  6]\n",
      " [ 8 10 12]]\n",
      "[[0 0 0]\n",
      " [0 0 0]]\n"
     ]
    }
   ],
   "source": [
    "print(arr + arr)\n",
    "print(arr - arr)"
   ]
  },
  {
   "cell_type": "code",
   "execution_count": 44,
   "id": "7ba85d4f-9517-4785-b934-8d1c9f529c97",
   "metadata": {},
   "outputs": [
    {
     "name": "stdout",
     "output_type": "stream",
     "text": [
      "[[0.1 0.2 0.3]\n",
      " [0.4 0.5 0.6]]\n",
      "[[ 1  4  9]\n",
      " [16 25 36]]\n"
     ]
    }
   ],
   "source": [
    "print(arr / 10)\n",
    "print(arr ** 2)"
   ]
  },
  {
   "cell_type": "code",
   "execution_count": 46,
   "id": "6c2c8bd3-a992-4c9f-9e30-50bec16fda06",
   "metadata": {},
   "outputs": [
    {
     "name": "stdout",
     "output_type": "stream",
     "text": [
      "[[1 2 3]\n",
      " [4 5 6]]\n",
      "[[3 2 1]\n",
      " [6 5 4]]\n",
      "[[False False  True]\n",
      " [False False  True]]\n"
     ]
    }
   ],
   "source": [
    "b = [\n",
    "    [3, 2, 1],\n",
    "    [6, 5, 4]\n",
    "]\n",
    "arr2 = np.array(b)\n",
    "\n",
    "print(arr)\n",
    "print(arr2)\n",
    "print(arr > arr2)"
   ]
  },
  {
   "cell_type": "markdown",
   "id": "45b15459-c365-49d3-998d-20bf40f84835",
   "metadata": {},
   "source": [
    "## 1.4 인덱싱, 슬라이싱"
   ]
  },
  {
   "cell_type": "code",
   "execution_count": 51,
   "id": "51dd6674-ff91-494b-a1d6-d0c45b7833cc",
   "metadata": {},
   "outputs": [
    {
     "name": "stdout",
     "output_type": "stream",
     "text": [
      "[0 1 2 3 4 5 6 7 8 9]\n",
      "5\n",
      "[3 4 5]\n",
      "[ 0  1  2 99 99 99  6  7  8  9]\n"
     ]
    }
   ],
   "source": [
    "arr = np.arange(10)\n",
    "print(arr)\n",
    "print(arr[5])\n",
    "print(arr[3:6])\n",
    "\n",
    "arr[3:6] = 99\n",
    "print(arr)"
   ]
  },
  {
   "cell_type": "code",
   "execution_count": 53,
   "id": "f996dac1-4f27-4c04-ad41-5409acf33ca1",
   "metadata": {},
   "outputs": [
    {
     "name": "stdout",
     "output_type": "stream",
     "text": [
      "[99 99 99]\n"
     ]
    }
   ],
   "source": [
    "slice_arr = arr[3:6]\n",
    "print(slice_arr)"
   ]
  },
  {
   "cell_type": "code",
   "execution_count": 54,
   "id": "6fb602ab-3347-4d3c-b9e5-794c8c5dba39",
   "metadata": {},
   "outputs": [
    {
     "name": "stdout",
     "output_type": "stream",
     "text": [
      "[99 55 99]\n",
      "[ 0  1  2 99 55 99  6  7  8  9]\n"
     ]
    }
   ],
   "source": [
    "slice_arr[1] = 55\n",
    "print(slice_arr)\n",
    "print(arr)"
   ]
  },
  {
   "cell_type": "code",
   "execution_count": 58,
   "id": "4af0b7a3-d0a9-42b8-bf20-52df4a5a41b5",
   "metadata": {},
   "outputs": [
    {
     "name": "stdout",
     "output_type": "stream",
     "text": [
      "[[1 2 3]\n",
      " [4 5 6]\n",
      " [7 8 9]]\n"
     ]
    }
   ],
   "source": [
    "slice_arr[:] = 100\n",
    "print(arr)"
   ]
  },
  {
   "cell_type": "code",
   "execution_count": 59,
   "id": "d110edab-ec0f-463e-8a3d-be6e57e2b43d",
   "metadata": {},
   "outputs": [],
   "source": [
    "a = [\n",
    "    [1, 2, 3], \n",
    "    [4, 5, 6],\n",
    "    [7, 8, 9]\n",
    "]\n",
    "arr = np.array(a)"
   ]
  },
  {
   "cell_type": "code",
   "execution_count": 62,
   "id": "9ed7db03-ec9e-45fa-a016-05f05962c059",
   "metadata": {},
   "outputs": [
    {
     "name": "stdout",
     "output_type": "stream",
     "text": [
      "5\n",
      "5\n"
     ]
    }
   ],
   "source": [
    "print(arr[1][1])\n",
    "print(arr[1, 1])"
   ]
  },
  {
   "cell_type": "code",
   "execution_count": 64,
   "id": "8bb8fc30-89f2-4a41-9542-32a229012b48",
   "metadata": {},
   "outputs": [
    {
     "name": "stdout",
     "output_type": "stream",
     "text": [
      "[[[ 1  2  3]\n",
      "  [ 4  5  6]]\n",
      "\n",
      " [[ 7  8  9]\n",
      "  [10 11 12]]]\n"
     ]
    }
   ],
   "source": [
    "a = [\n",
    "        [\n",
    "            [1, 2, 3],\n",
    "            [4, 5, 6]\n",
    "        ],\n",
    "        [\n",
    "            [7, 8, 9],\n",
    "            [10, 11, 12]\n",
    "        \n",
    "        ]\n",
    "]\n",
    "arr = np.array(a)\n",
    "print(arr)"
   ]
  },
  {
   "cell_type": "code",
   "execution_count": 69,
   "id": "91386a20-c5bc-4eb3-9270-55d17bb4e5a9",
   "metadata": {},
   "outputs": [
    {
     "name": "stdout",
     "output_type": "stream",
     "text": [
      "[[1 2 3]\n",
      " [4 5 6]]\n",
      "1\n",
      "1\n"
     ]
    }
   ],
   "source": [
    "print(arr[0])\n",
    "print(arr[0][0][0])\n",
    "print(arr[0, 0][0])"
   ]
  },
  {
   "cell_type": "code",
   "execution_count": 75,
   "id": "e9389033-6f5e-4f76-97f5-c01fce4099cf",
   "metadata": {},
   "outputs": [
    {
     "data": {
      "text/plain": [
       "array([1, 2, 3, 4, 5, 6, 7, 8, 9])"
      ]
     },
     "execution_count": 75,
     "metadata": {},
     "output_type": "execute_result"
    }
   ],
   "source": [
    "arr = np.arange(10)\n",
    "arr[1:]"
   ]
  },
  {
   "cell_type": "code",
   "execution_count": 77,
   "id": "e9d60939-b0bf-462f-bd12-2c4b78a8b228",
   "metadata": {},
   "outputs": [
    {
     "data": {
      "text/plain": [
       "array([[0, 1, 2],\n",
       "       [3, 4, 5]])"
      ]
     },
     "execution_count": 77,
     "metadata": {},
     "output_type": "execute_result"
    }
   ],
   "source": [
    "arr2d = np.arange(9).reshape(3, 3)\n",
    "arr2d[:2]"
   ]
  },
  {
   "cell_type": "code",
   "execution_count": 79,
   "id": "6c106e58-2c12-474d-8617-6b6dc7844dde",
   "metadata": {},
   "outputs": [
    {
     "name": "stdout",
     "output_type": "stream",
     "text": [
      "[[0 1 2]\n",
      " [3 4 5]\n",
      " [6 7 8]]\n"
     ]
    },
    {
     "data": {
      "text/plain": [
       "array([[1, 2],\n",
       "       [4, 5]])"
      ]
     },
     "execution_count": 79,
     "metadata": {},
     "output_type": "execute_result"
    }
   ],
   "source": [
    "print(arr2d)\n",
    "arr2d[:2, 1:]"
   ]
  },
  {
   "cell_type": "code",
   "execution_count": 80,
   "id": "87799a0f-59e4-4b3c-82c3-c89fff11513c",
   "metadata": {},
   "outputs": [
    {
     "data": {
      "text/plain": [
       "array([3, 4])"
      ]
     },
     "execution_count": 80,
     "metadata": {},
     "output_type": "execute_result"
    }
   ],
   "source": [
    "arr2d[1, :2]"
   ]
  },
  {
   "cell_type": "code",
   "execution_count": 83,
   "id": "e1304b6f-5ff9-41af-9f54-14394750020f",
   "metadata": {},
   "outputs": [
    {
     "name": "stdout",
     "output_type": "stream",
     "text": [
      "[[99  1  2]\n",
      " [99  4  5]\n",
      " [99  7  8]]\n"
     ]
    }
   ],
   "source": [
    "arr2d[:, :1] = 99\n",
    "print(arr2d)"
   ]
  },
  {
   "cell_type": "markdown",
   "id": "abac0e19-2060-4c5c-86b0-b5b8323a2582",
   "metadata": {},
   "source": [
    "## bool 값으로 선택"
   ]
  },
  {
   "cell_type": "code",
   "execution_count": 7,
   "id": "6c3ae45b-617d-45c5-918a-be7c44ec107b",
   "metadata": {},
   "outputs": [],
   "source": [
    "name = ['hong', 'kim', 'park', 'kim']\n",
    "scores = [\n",
    "    ['수학', 70],\n",
    "    ['영어', 80],\n",
    "    ['수학', 100],\n",
    "    ['수학', 90],\n",
    "]\n",
    "\n",
    "names_arr = np.array(name)\n",
    "scores_arr = np.array(scores)"
   ]
  },
  {
   "cell_type": "code",
   "execution_count": 9,
   "id": "e138c589-1261-46d8-971a-a5b15482841b",
   "metadata": {},
   "outputs": [
    {
     "name": "stdout",
     "output_type": "stream",
     "text": [
      "['hong' 'kim' 'park' 'kim']\n",
      "[['수학' '70']\n",
      " ['영어' '80']\n",
      " ['수학' '100']\n",
      " ['수학' '90']]\n"
     ]
    }
   ],
   "source": [
    "print(names_arr)\n",
    "print(scores_arr)"
   ]
  },
  {
   "cell_type": "code",
   "execution_count": 11,
   "id": "1876417c-e7a3-4432-9630-50bf0da17a82",
   "metadata": {},
   "outputs": [
    {
     "data": {
      "text/plain": [
       "array([False, False,  True, False])"
      ]
     },
     "execution_count": 11,
     "metadata": {},
     "output_type": "execute_result"
    }
   ],
   "source": [
    "names_arr == 'park'"
   ]
  },
  {
   "cell_type": "code",
   "execution_count": 13,
   "id": "ca0c74f8-c27a-4c08-9e1b-8c330e6271b7",
   "metadata": {},
   "outputs": [
    {
     "data": {
      "text/plain": [
       "array([['수학', '100']], dtype='<U21')"
      ]
     },
     "execution_count": 13,
     "metadata": {},
     "output_type": "execute_result"
    }
   ],
   "source": [
    "scores_arr[names_arr == 'park']"
   ]
  },
  {
   "cell_type": "code",
   "execution_count": 16,
   "id": "1802a1e3-b04c-4de5-8e19-0cf18843bf08",
   "metadata": {},
   "outputs": [
    {
     "data": {
      "text/plain": [
       "array([['영어', '80'],\n",
       "       ['수학', '90']], dtype='<U21')"
      ]
     },
     "execution_count": 16,
     "metadata": {},
     "output_type": "execute_result"
    }
   ],
   "source": [
    "scores_arr[names_arr == 'kim']"
   ]
  },
  {
   "cell_type": "code",
   "execution_count": 18,
   "id": "76dfd3f4-12bb-45c7-89a6-f6490578d2bf",
   "metadata": {},
   "outputs": [
    {
     "data": {
      "text/plain": [
       "array([['80'],\n",
       "       ['90']], dtype='<U21')"
      ]
     },
     "execution_count": 18,
     "metadata": {},
     "output_type": "execute_result"
    }
   ],
   "source": [
    "scores_arr[names_arr == 'kim', 1:]"
   ]
  },
  {
   "cell_type": "code",
   "execution_count": 21,
   "id": "15be7762-4e19-457f-af8d-57b1bacc6629",
   "metadata": {},
   "outputs": [
    {
     "data": {
      "text/plain": [
       "array(['80', '90'], dtype='<U21')"
      ]
     },
     "execution_count": 21,
     "metadata": {},
     "output_type": "execute_result"
    }
   ],
   "source": [
    "scores_arr[names_arr == 'kim', 1]"
   ]
  },
  {
   "cell_type": "code",
   "execution_count": 23,
   "id": "30a36daf-fefc-4d9f-9d13-ad8063a50302",
   "metadata": {},
   "outputs": [
    {
     "name": "stdout",
     "output_type": "stream",
     "text": [
      "[ True False  True False]\n",
      "[ True False  True False]\n"
     ]
    }
   ],
   "source": [
    "print(names_arr != 'kim') # 배열이어서 not은 지원 x\n",
    "print(~(names_arr == 'kim'))"
   ]
  },
  {
   "cell_type": "code",
   "execution_count": 26,
   "id": "5188f7a8-e7d6-4acd-93c5-55358acd8491",
   "metadata": {},
   "outputs": [
    {
     "data": {
      "text/plain": [
       "array([['수학', '70']], dtype='<U21')"
      ]
     },
     "execution_count": 26,
     "metadata": {},
     "output_type": "execute_result"
    }
   ],
   "source": [
    "cond = names_arr == 'hong'\n",
    "scores_arr[cond] # 제일 많이 사용하는 방식 (변수에 지정)"
   ]
  },
  {
   "cell_type": "code",
   "execution_count": 29,
   "id": "92e60bbb-1931-43e6-8e34-701d9012ea16",
   "metadata": {},
   "outputs": [
    {
     "data": {
      "text/plain": [
       "array([['영어', '80'],\n",
       "       ['수학', '100'],\n",
       "       ['수학', '90']], dtype='<U21')"
      ]
     },
     "execution_count": 29,
     "metadata": {},
     "output_type": "execute_result"
    }
   ],
   "source": [
    "cond = (names_arr == 'kim') | (names_arr == 'park') # |는 and\n",
    "scores_arr[cond]"
   ]
  },
  {
   "cell_type": "markdown",
   "id": "b3587130-55b1-4a3a-9762-e6351c10963c",
   "metadata": {},
   "source": [
    "## 1.6 팬시 인덱싱(fancy indexing)"
   ]
  },
  {
   "cell_type": "code",
   "execution_count": 31,
   "id": "d9f5594f-1e80-4bb6-b235-65ceba991096",
   "metadata": {},
   "outputs": [
    {
     "name": "stdout",
     "output_type": "stream",
     "text": [
      "[[0. 0. 0. 0. 0.]\n",
      " [0. 0. 0. 0. 0.]\n",
      " [0. 0. 0. 0. 0.]\n",
      " [0. 0. 0. 0. 0.]]\n"
     ]
    }
   ],
   "source": [
    "arr = np.zeros((4, 5)) # 0을 4행 5열\n",
    "print(arr)"
   ]
  },
  {
   "cell_type": "code",
   "execution_count": 53,
   "id": "d44c8b28-0d29-4647-8da7-a3b8478a14f6",
   "metadata": {},
   "outputs": [
    {
     "name": "stdout",
     "output_type": "stream",
     "text": [
      "[[ 0  1  2  3]\n",
      " [ 4  5  6  7]\n",
      " [ 8  9 10 11]\n",
      " [12 13 14 15]\n",
      " [16 17 18 19]\n",
      " [20 21 22 23]]\n"
     ]
    }
   ],
   "source": [
    "arr = np.arange(24).reshape(6, 4)\n",
    "print(arr)"
   ]
  },
  {
   "cell_type": "code",
   "execution_count": 49,
   "id": "bcea5613-1e1d-4070-b785-2f8b509aa8ff",
   "metadata": {},
   "outputs": [
    {
     "name": "stdout",
     "output_type": "stream",
     "text": [
      "[[ 0  1  2  3]\n",
      " [12 13 14 15]\n",
      " [ 8  9 10 11]\n",
      " [ 4  5  6  7]]\n"
     ]
    }
   ],
   "source": [
    "print(arr[[0, 3, 2, 1]]) # 0행과 3행, 순서와 무관하게 여러개의 데이터를 추출하고 싶을 때"
   ]
  },
  {
   "cell_type": "code",
   "execution_count": 51,
   "id": "bcdb5099-3f88-43e5-8686-1e13b8d2c322",
   "metadata": {},
   "outputs": [
    {
     "name": "stdout",
     "output_type": "stream",
     "text": [
      "[[12 13 14 15]\n",
      " [20 21 22 23]]\n"
     ]
    }
   ],
   "source": [
    "print(arr[[-3, -1]])"
   ]
  },
  {
   "cell_type": "code",
   "execution_count": 54,
   "id": "fd8b54f1-f6e8-4d24-91da-848a02cf61c6",
   "metadata": {},
   "outputs": [
    {
     "data": {
      "text/plain": [
       "array([15, 10,  5])"
      ]
     },
     "execution_count": 54,
     "metadata": {},
     "output_type": "execute_result"
    }
   ],
   "source": [
    "arr[[3, 2, 1], [3, 2, 1]]"
   ]
  },
  {
   "cell_type": "code",
   "execution_count": 59,
   "id": "ace60f06-8efa-4c0f-b7c1-6589a7bfb4cf",
   "metadata": {},
   "outputs": [
    {
     "name": "stdout",
     "output_type": "stream",
     "text": [
      "[[ 0  1  2  3]\n",
      " [ 4  5  6  7]\n",
      " [ 8  9 10 11]\n",
      " [12 13 14 15]\n",
      " [16 17 18 19]\n",
      " [20 21 22 23]]\n"
     ]
    }
   ],
   "source": [
    "arr = np.arange(24).reshape(6, 4)\n",
    "print(arr)"
   ]
  },
  {
   "cell_type": "code",
   "execution_count": 62,
   "id": "bca21c6a-ecd1-4da3-899e-a88fbee88b37",
   "metadata": {},
   "outputs": [
    {
     "name": "stdout",
     "output_type": "stream",
     "text": [
      "[[ 0  1  2  3]\n",
      " [ 4 99  6  7]\n",
      " [ 8  9 99 11]\n",
      " [12 13 14 99]\n",
      " [16 17 18 19]\n",
      " [20 21 22 23]]\n"
     ]
    }
   ],
   "source": [
    "arr[[3, 2, 1], [3, 2, 1]] = 99\n",
    "print(arr)"
   ]
  },
  {
   "cell_type": "markdown",
   "id": "a49547f2-cd7e-4e50-b296-1cd6651ce2da",
   "metadata": {},
   "source": [
    "## 1.7 전치"
   ]
  },
  {
   "cell_type": "code",
   "execution_count": 65,
   "id": "3c23e482-7f8e-4d7d-b3a9-3d219f90efa6",
   "metadata": {},
   "outputs": [],
   "source": [
    "arr = np.arange(15).reshape(3, 5)"
   ]
  },
  {
   "cell_type": "code",
   "execution_count": 76,
   "id": "f9260ea2-2833-459d-b3c9-7c654f625486",
   "metadata": {},
   "outputs": [
    {
     "name": "stdout",
     "output_type": "stream",
     "text": [
      "[[ 0  1  2  3  4]\n",
      " [ 5  6  7  8  9]\n",
      " [10 11 12 13 14]]\n"
     ]
    }
   ],
   "source": [
    "print(arr) #가로"
   ]
  },
  {
   "cell_type": "code",
   "execution_count": 70,
   "id": "d95806f0-e1c6-4b58-8456-a0d3eb03af91",
   "metadata": {},
   "outputs": [
    {
     "name": "stdout",
     "output_type": "stream",
     "text": [
      "[[ 0  5 10]\n",
      " [ 1  6 11]\n",
      " [ 2  7 12]\n",
      " [ 3  8 13]\n",
      " [ 4  9 14]]\n"
     ]
    }
   ],
   "source": [
    "print(arr.T) #세로 방향으로 곱함"
   ]
  },
  {
   "cell_type": "code",
   "execution_count": 72,
   "id": "cf3826b5-64df-4de9-b0f0-65da3019016a",
   "metadata": {},
   "outputs": [
    {
     "name": "stdout",
     "output_type": "stream",
     "text": [
      "[[ 30  80 130]\n",
      " [ 80 255 430]\n",
      " [130 430 730]]\n"
     ]
    }
   ],
   "source": [
    "print(np.dot(arr, arr.T)) # 행렬의 곱"
   ]
  },
  {
   "cell_type": "code",
   "execution_count": 74,
   "id": "6219012d-f44e-48df-b8f0-b669f3be8b93",
   "metadata": {},
   "outputs": [
    {
     "name": "stdout",
     "output_type": "stream",
     "text": [
      "[[ 30  80 130]\n",
      " [ 80 255 430]\n",
      " [130 430 730]]\n"
     ]
    }
   ],
   "source": [
    "print(arr @ arr.T)"
   ]
  },
  {
   "cell_type": "markdown",
   "id": "9ce4c7be-0902-42cf-81ad-42e218b1b3d1",
   "metadata": {},
   "source": [
    "## 난수 생성"
   ]
  },
  {
   "cell_type": "code",
   "execution_count": 77,
   "id": "66476fb8-364a-4a96-ae4f-23f0df1a3a86",
   "metadata": {},
   "outputs": [
    {
     "name": "stdout",
     "output_type": "stream",
     "text": [
      "[[-0.68249057  0.96998213 -1.51393947  1.32648762]\n",
      " [ 0.41892093  0.66598353  0.90484655 -0.21723899]\n",
      " [-0.26790921 -0.26642581 -1.68213613  0.29963445]\n",
      " [ 0.16410518  1.3053041  -0.50094824 -0.13197111]]\n"
     ]
    }
   ],
   "source": [
    "sample = np.random.standard_normal(size=(4, 4))\n",
    "print(sample)"
   ]
  },
  {
   "cell_type": "code",
   "execution_count": 80,
   "id": "1eb4a3c3-4fc7-4c22-9660-21d226e4e83b",
   "metadata": {},
   "outputs": [
    {
     "name": "stdout",
     "output_type": "stream",
     "text": [
      "[[       nan 0.98487671        nan 1.15173244]\n",
      " [0.64724102 0.81607814 0.95123423        nan]\n",
      " [       nan        nan        nan 0.54738876]\n",
      " [0.40509897 1.14249906        nan        nan]]\n"
     ]
    },
    {
     "name": "stderr",
     "output_type": "stream",
     "text": [
      "C:\\Users\\2-20\\AppData\\Local\\Temp\\ipykernel_2408\\1352323630.py:1: RuntimeWarning: invalid value encountered in sqrt\n",
      "  print(np.sqrt(sample) ) # 루트\n"
     ]
    }
   ],
   "source": [
    "print(np.sqrt(sample) ) # 루트"
   ]
  },
  {
   "cell_type": "code",
   "execution_count": 83,
   "id": "12dd553c-64cd-4114-9361-769f071b7d93",
   "metadata": {},
   "outputs": [
    {
     "name": "stdout",
     "output_type": "stream",
     "text": [
      "[[0.68249057 0.96998213 1.51393947 1.32648762]\n",
      " [0.41892093 0.66598353 0.90484655 0.21723899]\n",
      " [0.26790921 0.26642581 1.68213613 0.29963445]\n",
      " [0.16410518 1.3053041  0.50094824 0.13197111]]\n"
     ]
    }
   ],
   "source": [
    "print(np.abs(sample)) # 음수를 양수로"
   ]
  },
  {
   "cell_type": "code",
   "execution_count": 85,
   "id": "16cf487f-6c50-4320-97bc-5bf935b96ecb",
   "metadata": {},
   "outputs": [
    {
     "name": "stderr",
     "output_type": "stream",
     "text": [
      "C:\\Users\\2-20\\AppData\\Local\\Temp\\ipykernel_2408\\619758985.py:1: RuntimeWarning: invalid value encountered in sqrt\n",
      "  np.isnan(np.sqrt(sample))\n"
     ]
    },
    {
     "data": {
      "text/plain": [
       "array([[ True, False,  True, False],\n",
       "       [False, False, False,  True],\n",
       "       [ True,  True,  True, False],\n",
       "       [False, False,  True,  True]])"
      ]
     },
     "execution_count": 85,
     "metadata": {},
     "output_type": "execute_result"
    }
   ],
   "source": [
    "np.isnan(np.sqrt(sample))"
   ]
  },
  {
   "cell_type": "code",
   "execution_count": 88,
   "id": "8796ea36-b999-4401-932b-98b9eeb1b1c6",
   "metadata": {},
   "outputs": [
    {
     "name": "stdout",
     "output_type": "stream",
     "text": [
      "[0, 1, 2, 1, 0, 1, 0, -1, -2, -1, 0, 1, 0, 1, 0, -1, 0, -1, 0, -1, -2, -3, -2, -1, -2, -1, 0, 1, 0, -1, -2, -3, -2, -3, -4, -5, -4, -5, -6, -5, -6, -5, -4, -5, -4, -3, -4, -5, -6, -7, -8, -9, -10, -9, -10, -11, -12, -13, -12, -11, -12, -11, -10, -11, -10, -9, -8, -9, -8, -9, -10, -9, -10, -11, -10, -9, -10, -11, -10, -11, -10, -11, -10, -11, -12, -13, -14, -15, -16, -17, -16, -17, -18, -19, -20, -19, -18, -19, -20, -21, -20, -19, -18, -19, -18, -19, -20, -21, -22, -21, -22, -21, -22, -23, -22, -21, -22, -23, -22, -21, -20, -19, -18, -17, -18, -19, -18, -17, -18, -19, -20, -19, -18, -17, -18, -19, -18, -19, -18, -19, -18, -19, -18, -19, -20, -21, -22, -21, -20, -19, -20, -21, -22, -21, -20, -21, -20, -19, -20, -21, -22, -21, -20, -19, -20, -21, -20, -21, -20, -19, -20, -19, -18, -17, -16, -17, -18, -17, -18, -19, -20, -19, -18, -19, -18, -19, -20, -19, -20, -19, -20, -21, -20, -19, -20, -21, -20, -21, -20, -19, -20, -19, -18, -17, -16, -17, -18, -17, -18, -19, -20, -19, -20, -21, -22, -21, -20, -19, -20, -19, -20, -21, -22, -23, -22, -23, -22, -23, -24, -25, -24, -25, -24, -25, -24, -23, -24, -25, -26, -25, -24, -23, -24, -25, -24, -25, -26, -25, -24, -25, -24, -23, -24, -23, -24, -23, -24, -23, -22, -23, -22, -23, -24, -23, -22, -21, -22, -21, -20, -21, -22, -23, -24, -25, -24, -23, -22, -21, -22, -21, -22, -21, -20, -19, -18, -19, -20, -19, -18, -19, -20, -19, -20, -19, -18, -17, -18, -19, -18, -19, -20, -21, -20, -21, -20, -21, -20, -19, -20, -19, -20, -21, -22, -21, -20, -21, -22, -21, -20, -19, -20, -21, -20, -21, -20, -19, -18, -19, -18, -19, -20, -21, -20, -21, -20, -21, -20, -19, -20, -21, -22, -21, -20, -21, -22, -23, -22, -23, -22, -23, -24, -23, -24, -25, -24, -23, -24, -25, -24, -23, -22, -21, -22, -23, -22, -23, -24, -23, -24, -23, -24, -25, -24, -23, -24, -25, -26, -25, -24, -23, -22, -21, -20, -21, -20, -19, -20, -19, -18, -17, -16, -17, -18, -19, -20, -19, -20, -19, -18, -19, -20, -19, -18, -17, -16, -15, -16, -15, -14, -15, -16, -17, -18, -17, -18, -17, -18, -19, -20, -21, -22, -21, -22, -21, -20, -19, -20, -21, -22, -21, -22, -21, -22, -23, -22, -23, -22, -23, -24, -23, -22, -23, -24, -23, -22, -23, -24, -23, -22, -21, -20, -19, -18, -17, -16, -17, -16, -17, -18, -17, -18, -19, -18, -19, -18, -17, -18, -19, -20, -21, -20, -21, -20, -21, -20, -21, -22, -21, -22, -23, -22, -21, -22, -21, -20, -21, -22, -23, -24, -23, -24, -25, -26, -25, -26, -25, -26, -27, -26, -27, -28, -27, -26, -27, -28, -27, -28, -29, -28, -29, -30, -29, -30, -29, -28, -27, -26, -27, -26, -25, -26, -27, -28, -27, -28, -27, -26, -25, -24, -25, -24, -25, -26, -27, -28, -27, -26, -25, -26, -27, -26, -27, -28, -27, -26, -25, -24, -25, -24, -23, -24, -25, -26, -25, -26, -25, -24, -25, -24, -25, -24, -25, -24, -23, -24, -25, -26, -27, -28, -27, -28, -29, -30, -29, -30, -31, -32, -31, -30, -31, -32, -31, -32, -31, -32, -31, -30, -29, -30, -29, -28, -29, -30, -31, -32, -31, -32, -33, -32, -31, -32, -31, -30, -31, -30, -31, -32, -33, -34, -33, -34, -35, -36, -37, -36, -35, -36, -35, -34, -35, -34, -35, -34, -33, -34, -33, -32, -33, -32, -31, -30, -29, -30, -29, -30, -29, -30, -31, -32, -33, -32, -33, -34, -33, -32, -31, -32, -33, -34, -33, -34, -33, -34, -35, -36, -35, -36, -35, -34, -33, -34, -33, -34, -33, -34, -35, -34, -33, -34, -33, -32, -31, -32, -33, -34, -35, -34, -35, -36, -35, -36, -37, -38, -39, -38, -39, -38, -37, -36, -37, -36, -37, -38, -39, -38, -39, -38, -37, -38, -39, -40, -41, -42, -41, -42, -41, -40, -41, -40, -41, -40, -39, -38, -37, -38, -39, -38, -39, -38, -37, -36, -35, -36, -37, -36, -37, -38, -37, -36, -37, -36, -35, -36, -35, -34, -35, -34, -35, -36, -35, -36, -37, -36, -37, -38, -39, -38, -39, -38, -37, -36, -35, -34, -35, -36, -37, -38, -37, -36, -35, -34, -35, -34, -33, -32, -33, -32, -31, -32, -31, -32, -33, -32, -31, -30, -29, -28, -27, -28, -27, -28, -29, -28, -27, -26, -25, -24, -23, -24, -25, -24, -23, -22, -23, -22, -23, -24, -23, -22, -21, -22, -21, -20, -21, -20, -21, -20, -19, -20, -19, -20, -21, -20, -21, -22, -21, -22, -23, -22, -23, -22, -23, -22, -23, -22, -23, -22, -23, -22, -23, -24, -23, -22, -21, -22, -21, -20, -21, -20, -19, -20, -19, -18, -19, -18, -17, -16, -17, -18, -17, -16, -15, -14, -13, -12, -13, -14, -13, -14, -13, -12, -11, -12, -11, -10, -9, -10, -11, -12, -11, -10, -9, -8, -7, -6, -5, -6, -7, -6, -7, -8, -7, -6, -5, -4, -5, -4, -3, -4, -3, -2, -3, -2, -3, -4, -5, -6, -7, -6, -7, -8, -7, -8, -7, -6, -5, -6, -7, -8, -9, -8, -9, -10, -11, -12, -11, -12, -13, -12, -11, -10, -11, -10, -11, -10, -9, -8, -9, -8, -7, -6, -5, -6, -5, -6, -5, -4, -3, -2, -3, -4, -3, -4, -5, -4, -3, -4, -3, -2, -1, 0, 1, 2, 1, 2, 1, 0, -1, -2, -1, 0, -1, 0, -1, 0, -1, 0, -1, -2, -3, -2, -1, -2, -3, -2, -3, -4, -5, -4, -3, -2, -3, -4, -3, -4, -3, -4, -3, -2, -3, -4, -3, -4, -5, -6, -7, -6, -7, -8, -7, -6]\n"
     ]
    }
   ],
   "source": [
    "import random\n",
    "position = 0\n",
    "walk = [position]\n",
    "nsteps = 1000\n",
    "for _ in range(nsteps):\n",
    "    step = 1 if random.randint(0, 1) else -1\n",
    "    position += step\n",
    "    walk.append(position)\n",
    "\n",
    "print(walk)"
   ]
  },
  {
   "cell_type": "code",
   "execution_count": 90,
   "id": "ec7bfb17-8cc3-4969-bdef-6ce0b1670681",
   "metadata": {},
   "outputs": [
    {
     "name": "stdout",
     "output_type": "stream",
     "text": [
      "[ 0  1  2 ... -8 -7 -6]\n"
     ]
    }
   ],
   "source": [
    "walk_arr = np.array(walk)\n",
    "print(walk_arr)"
   ]
  },
  {
   "cell_type": "code",
   "execution_count": 93,
   "id": "0cbbf792-0654-42e7-ba25-b990d26b1630",
   "metadata": {},
   "outputs": [
    {
     "data": {
      "text/plain": [
       "<Figure size 640x480 with 0 Axes>"
      ]
     },
     "execution_count": 93,
     "metadata": {},
     "output_type": "execute_result"
    },
    {
     "data": {
      "text/plain": [
       "<Figure size 640x480 with 0 Axes>"
      ]
     },
     "metadata": {},
     "output_type": "display_data"
    }
   ],
   "source": [
    "import matplotlib.pyplot as plt\n",
    "\n",
    "plt.figure()"
   ]
  },
  {
   "cell_type": "code",
   "execution_count": 96,
   "id": "2142f677-3068-46ce-bb2c-318d83c8cc96",
   "metadata": {},
   "outputs": [
    {
     "data": {
      "image/png": "[encoded data removed]",
      "text/plain": [
       "<Figure size 640x480 with 1 Axes>"
      ]
     },
     "metadata": {},
     "output_type": "display_data"
    }
   ],
   "source": [
    "plt.plot(walk_arr[:100])\n",
    "plt.show()"
   ]
  },
  {
   "cell_type": "code",
   "execution_count": 103,
   "id": "27ed915f-f642-461d-83ca-7846b059c616",
   "metadata": {},
   "outputs": [
    {
     "name": "stdout",
     "output_type": "stream",
     "text": [
      "2\n",
      "-21\n",
      "0\n"
     ]
    }
   ],
   "source": [
    "print(walk_arr[:100].max())\n",
    "print(walk_arr[:100].min())\n",
    "print( (walk_arr[:100] >= 0).argmax() ) # 0을 최초로 넘는 값"
   ]
  }
 ],
 "metadata": {
  "kernelspec": {
   "display_name": "Python 3 (ipykernel)",
   "language": "python",
   "name": "python3"
  },
  "language_info": {
   "codemirror_mode": {
    "name": "ipython",
    "version": 3
   },
   "file_extension": ".py",
   "mimetype": "text/x-python",
   "name": "python",
   "nbconvert_exporter": "python",
   "pygments_lexer": "ipython3",
   "version": "3.12.4"
  }
 },
 "nbformat": 4,
 "nbformat_minor": 5
}
