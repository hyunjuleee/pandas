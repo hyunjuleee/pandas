{
 "cells": [
  {
   "cell_type": "markdown",
   "id": "1fb1ccde-ad62-4dab-bd40-e577bb5241c4",
   "metadata": {},
   "source": [
    "# ! numpy\n",
    "```\n",
    "np.arange(), np.array(), .shape, .dtype\n",
    ".ndim\n",
    "\n",
    "np.zeros(())\n",
    "np.empty(())\n",
    "\n",
    "```"
   ]
  },
  {
   "cell_type": "code",
   "execution_count": 1,
   "id": "16f59feb-e131-4bf4-a39a-6a82af0c00a2",
   "metadata": {},
   "outputs": [],
   "source": [
    "import numpy as np"
   ]
  },
  {
   "cell_type": "code",
   "execution_count": 16,
   "id": "e2b039fc-7992-4c48-a61c-c2033dcd156e",
   "metadata": {},
   "outputs": [],
   "source": [
    "# np.arange() 함수는 주어진 범위에서 지정된 간격으로 순차적인 값들로 이루어진 배열을 생성\n",
    "my_arr = np.arange(100)\n",
    "my_list = list(range(100))"
   ]
  },
  {
   "cell_type": "code",
   "execution_count": 11,
   "id": "07f519fa-f17f-4a86-8c15-fbd98bbba254",
   "metadata": {},
   "outputs": [
    {
     "name": "stdout",
     "output_type": "stream",
     "text": [
      "1.14 μs ± 84.4 ns per loop (mean ± std. dev. of 7 runs, 1,000,000 loops each)\n"
     ]
    }
   ],
   "source": [
    "%timeit my_arr * 2"
   ]
  },
  {
   "cell_type": "code",
   "execution_count": 12,
   "id": "e4411afb-a16c-4fe1-b4ac-058e51965cc6",
   "metadata": {},
   "outputs": [
    {
     "name": "stdout",
     "output_type": "stream",
     "text": [
      "15.5 ns ± 0.645 ns per loop (mean ± std. dev. of 7 runs, 100,000,000 loops each)\n"
     ]
    }
   ],
   "source": [
    "my_list2 = [x * 2 for x in my_list]\n",
    "\n",
    "%timeit my_list2"
   ]
  },
  {
   "cell_type": "code",
   "execution_count": 18,
   "id": "b208168d-1ad8-4b61-8c5f-436efbe44cae",
   "metadata": {},
   "outputs": [
    {
     "name": "stdout",
     "output_type": "stream",
     "text": [
      "[[   5.     1.1   -5. ]\n",
      " [ 123.  -123.     0. ]]\n"
     ]
    }
   ],
   "source": [
    "# np.array(x)는 파이썬의 리스트(x)를 인수로 받아 넘파이 라이브러리가 제공하는 특수한 형태의 배열(numpy.ndarray)을 반환\n",
    "\n",
    "a = [\n",
    "    [5, 1.1, -5],\n",
    "    [123, -123, 0]\n",
    "]\n",
    "\n",
    "data = np.array(a)\n",
    "print(data)"
   ]
  },
  {
   "cell_type": "code",
   "execution_count": 19,
   "id": "c4b680ea-cc9f-44ff-b011-97fbe5f6f0ab",
   "metadata": {},
   "outputs": [
    {
     "name": "stdout",
     "output_type": "stream",
     "text": [
      "[[   50.    11.   -50.]\n",
      " [ 1230. -1230.     0.]]\n",
      "[[  10.     2.2  -10. ]\n",
      " [ 246.  -246.     0. ]]\n"
     ]
    }
   ],
   "source": [
    "print(data * 10)\n",
    "print(data + data)"
   ]
  },
  {
   "cell_type": "code",
   "execution_count": 20,
   "id": "c31150ea-b949-451a-86e7-1586b0c4f322",
   "metadata": {},
   "outputs": [
    {
     "data": {
      "text/plain": [
       "(2, 3)"
      ]
     },
     "execution_count": 20,
     "metadata": {},
     "output_type": "execute_result"
    }
   ],
   "source": [
    "data.shape"
   ]
  },
  {
   "cell_type": "code",
   "execution_count": 21,
   "id": "3986df85-f920-4f36-afb8-3ad101218780",
   "metadata": {},
   "outputs": [
    {
     "data": {
      "text/plain": [
       "dtype('float64')"
      ]
     },
     "execution_count": 21,
     "metadata": {},
     "output_type": "execute_result"
    }
   ],
   "source": [
    "data.dtype"
   ]
  },
  {
   "cell_type": "code",
   "execution_count": 22,
   "id": "cdca0069-f438-4072-afad-350acf8ebcbf",
   "metadata": {},
   "outputs": [
    {
     "data": {
      "text/plain": [
       "2"
      ]
     },
     "execution_count": 22,
     "metadata": {},
     "output_type": "execute_result"
    }
   ],
   "source": [
    "data.ndim"
   ]
  },
  {
   "cell_type": "code",
   "execution_count": 32,
   "id": "53f1d1c5-c59e-4d75-ab45-a1c768ff946b",
   "metadata": {},
   "outputs": [
    {
     "name": "stdout",
     "output_type": "stream",
     "text": [
      "[[[0. 0. 0. 0.]\n",
      "  [0. 0. 0. 0.]\n",
      "  [0. 0. 0. 0.]]\n",
      "\n",
      " [[0. 0. 0. 0.]\n",
      "  [0. 0. 0. 0.]\n",
      "  [0. 0. 0. 0.]]]\n"
     ]
    }
   ],
   "source": [
    "a = np.zeros((2, 3, 4)) # 배열몇개?=x, y=행, z=열\n",
    "print(a)"
   ]
  },
  {
   "cell_type": "code",
   "execution_count": 33,
   "id": "b2382345-c876-467b-90d0-de4b022fa163",
   "metadata": {},
   "outputs": [
    {
     "name": "stdout",
     "output_type": "stream",
     "text": [
      "[[[0. 0. 0.]\n",
      "  [0. 0. 0.]\n",
      "  [0. 0. 0.]]\n",
      "\n",
      " [[0. 0. 0.]\n",
      "  [0. 0. 0.]\n",
      "  [0. 0. 0.]]]\n"
     ]
    }
   ],
   "source": [
    "b = np.empty((2, 3, 3))\n",
    "print(b)"
   ]
  },
  {
   "cell_type": "code",
   "execution_count": 34,
   "id": "c24d39ae-7f65-4be2-9c71-ed60df75df78",
   "metadata": {},
   "outputs": [],
   "source": [
    "#자료형"
   ]
  },
  {
   "cell_type": "code",
   "execution_count": 37,
   "id": "c9d9af45-6eae-4381-ba89-343d5be1e169",
   "metadata": {},
   "outputs": [
    {
     "name": "stdout",
     "output_type": "stream",
     "text": [
      "float64\n"
     ]
    }
   ],
   "source": [
    "a = [1, 2, 3]\n",
    "\n",
    "arr1 = np.array(a, dtype=np.float64)\n",
    "print(arr1.dtype)"
   ]
  },
  {
   "cell_type": "code",
   "execution_count": 43,
   "id": "72baf909-77c5-4599-9723-485985dcdd11",
   "metadata": {},
   "outputs": [
    {
     "name": "stdout",
     "output_type": "stream",
     "text": [
      "float64\n"
     ]
    }
   ],
   "source": [
    "a = [1, 2, 3, 4, 5]\n",
    "arr = np.array(a)\n",
    "float_arr = arr.astype(np.float64)\n",
    "print(float_arr.dtype)"
   ]
  },
  {
   "cell_type": "code",
   "execution_count": 48,
   "id": "e42aa1d9-922e-4867-9852-5ce36977eba0",
   "metadata": {},
   "outputs": [
    {
     "name": "stdout",
     "output_type": "stream",
     "text": [
      "[[False False  True]\n",
      " [ True  True  True]]\n",
      "[[ 3  4  3]\n",
      " [54 40 28]]\n",
      "[[0.33333333 1.         3.        ]\n",
      " [1.5        1.6        1.75      ]]\n"
     ]
    }
   ],
   "source": [
    "a = [\n",
    "    [1, 2, 3],\n",
    "    [9, 8, 7],\n",
    "]\n",
    "\n",
    "b = [\n",
    "    [3, 2, 1],\n",
    "    [6, 5, 4]\n",
    "]\n",
    "\n",
    "arr1 = np.array(a)\n",
    "arr2 = np.array(b)\n",
    "\n",
    "print(arr1 > arr2)\n",
    "print(arr1 * arr2)\n",
    "print(arr1 / arr2)"
   ]
  },
  {
   "cell_type": "code",
   "execution_count": 50,
   "id": "a48df993-9fbe-4f59-a27d-28672e943fdf",
   "metadata": {},
   "outputs": [
    {
     "name": "stdout",
     "output_type": "stream",
     "text": [
      "[0 1 2 3 4 5 6 7 8 9]\n"
     ]
    }
   ],
   "source": [
    "arr = np.arange(10)\n",
    "print(arr)"
   ]
  },
  {
   "cell_type": "code",
   "execution_count": 51,
   "id": "49d7c2ac-bb6f-4b6f-aac4-265efb99943d",
   "metadata": {},
   "outputs": [
    {
     "data": {
      "text/plain": [
       "array([1, 2, 3, 4])"
      ]
     },
     "execution_count": 51,
     "metadata": {},
     "output_type": "execute_result"
    }
   ],
   "source": [
    "arr[1:5]"
   ]
  },
  {
   "cell_type": "code",
   "execution_count": 53,
   "id": "9a206dae-5945-44ca-bb99-ba2fbd12a2d0",
   "metadata": {},
   "outputs": [
    {
     "data": {
      "text/plain": [
       "array([99, 99, 99,  3,  4,  5,  6,  7,  8,  9])"
      ]
     },
     "execution_count": 53,
     "metadata": {},
     "output_type": "execute_result"
    }
   ],
   "source": [
    "arr[:3] = 99\n",
    "arr"
   ]
  },
  {
   "cell_type": "code",
   "execution_count": 54,
   "id": "020c54f2-42f4-4563-a850-9471cfed14a9",
   "metadata": {},
   "outputs": [],
   "source": [
    "a = [\n",
    "    [1, 2, 3],\n",
    "    [4, 5, 6],\n",
    "    [7, 8, 9]\n",
    "]\n",
    "\n",
    "arr = np.array(a)"
   ]
  },
  {
   "cell_type": "code",
   "execution_count": 58,
   "id": "ef82d101-aa4d-4a74-ae82-bd6898dfb440",
   "metadata": {},
   "outputs": [
    {
     "name": "stdout",
     "output_type": "stream",
     "text": [
      "1\n",
      "1\n"
     ]
    }
   ],
   "source": [
    "print(arr[0][0])\n",
    "print(arr[0, 0])"
   ]
  },
  {
   "cell_type": "code",
   "execution_count": 60,
   "id": "d242ea06-b6f0-44dc-bc0a-d59e95e93cf1",
   "metadata": {},
   "outputs": [],
   "source": [
    "a = [\n",
    "        [\n",
    "            [1, 2, 3],\n",
    "            [4, 5, 6]\n",
    "        ],\n",
    "        [\n",
    "            [7, 8, 9],\n",
    "            [10, 11, 12]\n",
    "        ]\n",
    "]\n",
    "\n",
    "arr = np.array(a)"
   ]
  },
  {
   "cell_type": "code",
   "execution_count": 68,
   "id": "b920666b-1b89-4e5b-9734-db0c1903aa9b",
   "metadata": {},
   "outputs": [
    {
     "name": "stdout",
     "output_type": "stream",
     "text": [
      "[[1 2 3]\n",
      " [4 5 6]]\n",
      "[1 2 3]\n",
      "1\n"
     ]
    }
   ],
   "source": [
    "print(arr[0])\n",
    "print(arr[0, 0])\n",
    "print(arr[0, 0, 0])"
   ]
  },
  {
   "cell_type": "code",
   "execution_count": 70,
   "id": "94f91b97-278a-4cb2-aea8-c60a51588e6f",
   "metadata": {},
   "outputs": [
    {
     "name": "stdout",
     "output_type": "stream",
     "text": [
      "[[0 1 2]\n",
      " [3 4 5]\n",
      " [6 7 8]]\n"
     ]
    }
   ],
   "source": [
    "#reshape(n, n)\n",
    "\n",
    "arr2d = np.arange(9).reshape(3, 3)\n",
    "print(arr2d)"
   ]
  },
  {
   "cell_type": "code",
   "execution_count": 72,
   "id": "f2e65e09-dbec-4fbc-88d2-56ce385265c6",
   "metadata": {},
   "outputs": [
    {
     "data": {
      "text/plain": [
       "array([[1, 2],\n",
       "       [4, 5]])"
      ]
     },
     "execution_count": 72,
     "metadata": {},
     "output_type": "execute_result"
    }
   ],
   "source": [
    "arr2d[:2, 1:]"
   ]
  },
  {
   "cell_type": "code",
   "execution_count": 74,
   "id": "386e29ad-1d48-4820-b51e-ce44c9c12640",
   "metadata": {},
   "outputs": [
    {
     "name": "stdout",
     "output_type": "stream",
     "text": [
      "[[99  1  2]\n",
      " [99  4  5]\n",
      " [99  7  8]]\n"
     ]
    }
   ],
   "source": [
    "arr2d[:, :1] = 99\n",
    "print(arr2d)"
   ]
  },
  {
   "cell_type": "code",
   "execution_count": 75,
   "id": "7d3a8922-c3b3-4f40-a4f5-e805bd44e10d",
   "metadata": {},
   "outputs": [],
   "source": [
    "name = ['hong', 'kim', 'park', 'kim']\n",
    "scores = [\n",
    "    ['수학', 70],\n",
    "    ['영어', 80],\n",
    "    ['수학', 100],\n",
    "    ['수학', 90],\n",
    "]\n",
    "\n",
    "names_arr = np.array(name)\n",
    "scores_arr = np.array(scores)"
   ]
  },
  {
   "cell_type": "code",
   "execution_count": 76,
   "id": "e02c7c4d-6f28-46a9-8435-b63732fee84f",
   "metadata": {},
   "outputs": [
    {
     "data": {
      "text/plain": [
       "array([False, False,  True, False])"
      ]
     },
     "execution_count": 76,
     "metadata": {},
     "output_type": "execute_result"
    }
   ],
   "source": [
    "names_arr == 'park'"
   ]
  },
  {
   "cell_type": "code",
   "execution_count": 80,
   "id": "05ebda99-068c-4e03-be8a-327a9adc8554",
   "metadata": {},
   "outputs": [
    {
     "data": {
      "text/plain": [
       "array([['수학', '100']], dtype='<U21')"
      ]
     },
     "execution_count": 80,
     "metadata": {},
     "output_type": "execute_result"
    }
   ],
   "source": [
    "scores_arr[names_arr == 'park']"
   ]
  },
  {
   "cell_type": "code",
   "execution_count": 82,
   "id": "58c284d8-a34c-4eb1-9c5a-dd175a63519e",
   "metadata": {},
   "outputs": [
    {
     "data": {
      "text/plain": [
       "array([['수학']], dtype='<U21')"
      ]
     },
     "execution_count": 82,
     "metadata": {},
     "output_type": "execute_result"
    }
   ],
   "source": [
    "scores_arr[names_arr == 'park', :1]"
   ]
  },
  {
   "cell_type": "code",
   "execution_count": 86,
   "id": "51c29f4f-086f-4588-af4b-6d2210f1ebcd",
   "metadata": {},
   "outputs": [
    {
     "data": {
      "text/plain": [
       "array([['수학', '70']], dtype='<U21')"
      ]
     },
     "execution_count": 86,
     "metadata": {},
     "output_type": "execute_result"
    }
   ],
   "source": [
    "cond = names_arr == 'hong'\n",
    "\n",
    "scores_arr[cond]"
   ]
  },
  {
   "cell_type": "code",
   "execution_count": 90,
   "id": "529be06a-9709-4e35-87cc-2ae7773a0dc9",
   "metadata": {},
   "outputs": [
    {
     "name": "stdout",
     "output_type": "stream",
     "text": [
      "[[ 0  1  2  3  4  5]\n",
      " [ 6  7  8  9 10 11]\n",
      " [12 13 14 15 16 17]\n",
      " [18 19 20 21 22 23]\n",
      " [24 25 26 27 28 29]\n",
      " [30 31 32 33 34 35]]\n"
     ]
    }
   ],
   "source": [
    "arr = np.arange(36).reshape(6, 6)\n",
    "print(arr)"
   ]
  },
  {
   "cell_type": "code",
   "execution_count": 97,
   "id": "c88965ba-fb7c-4dc5-abad-99a586641c76",
   "metadata": {},
   "outputs": [
    {
     "name": "stdout",
     "output_type": "stream",
     "text": [
      "[[ 0  1  2  3  4  5]\n",
      " [ 6  7  8  9 10 11]]\n",
      "1\n"
     ]
    }
   ],
   "source": [
    "print(arr[[0, 1]])\n",
    "print(arr[0,1])"
   ]
  },
  {
   "cell_type": "code",
   "execution_count": 99,
   "id": "bf499a4c-33b8-41d6-ac10-cab4378c3ecd",
   "metadata": {},
   "outputs": [
    {
     "name": "stdout",
     "output_type": "stream",
     "text": [
      "[[30 31 32 33 34 35]\n",
      " [18 19 20 21 22 23]]\n"
     ]
    }
   ],
   "source": [
    "print(arr[[-1, -3]])"
   ]
  },
  {
   "cell_type": "code",
   "execution_count": 107,
   "id": "52ab5e4a-5122-4876-adbd-fab0eae2d708",
   "metadata": {},
   "outputs": [
    {
     "data": {
      "text/plain": [
       "array([ 0,  7, 14])"
      ]
     },
     "execution_count": 107,
     "metadata": {},
     "output_type": "execute_result"
    }
   ],
   "source": [
    "arr[[0, 1, 2], [0, 1, 2]] # 첫번째 []에는 추출할거 가로로, 두번째 []는 그 중에서 추출할거의 각각 번호하"
   ]
  },
  {
   "cell_type": "markdown",
   "id": "7496fc1c-194e-4f04-84f1-22ce32f63d71",
   "metadata": {},
   "source": [
    "# ! numpy\n",
    "```\n",
    "np.random.standard_normal(size=(x, y))\n",
    "np.sqrt(sample)\n",
    "np.abs(sample)\n",
    "np.isnan(  np.sqrt(sample)  )\n",
    "```"
   ]
  },
  {
   "cell_type": "code",
   "execution_count": 111,
   "id": "dbe901d3-f228-4587-89e0-5578ec168fc9",
   "metadata": {},
   "outputs": [
    {
     "name": "stdout",
     "output_type": "stream",
     "text": [
      "[[-0.11701985  0.32083823 -2.17396962 -0.0974466   0.5334383 ]\n",
      " [ 0.95577733 -0.03020241 -0.19925177 -0.36788105  0.2669882 ]\n",
      " [ 1.53258326 -1.10634444 -0.22810733 -0.00298975 -0.21045567]\n",
      " [ 1.01488727 -0.3441101   1.25306256 -0.83579477 -0.31443896]\n",
      " [ 0.07775224 -0.6386373   0.42312041 -0.72633633  0.81146673]]\n"
     ]
    }
   ],
   "source": [
    "sample = np.random.standard_normal(size=(5, 5))\n",
    "print(sample)"
   ]
  },
  {
   "cell_type": "code",
   "execution_count": 112,
   "id": "9a56f601-f439-444d-9e31-50b19510703c",
   "metadata": {},
   "outputs": [
    {
     "name": "stdout",
     "output_type": "stream",
     "text": [
      "[[       nan 0.56642584        nan        nan 0.7303686 ]\n",
      " [0.97763865        nan        nan        nan 0.51670901]\n",
      " [1.23797547        nan        nan        nan        nan]\n",
      " [1.00741613        nan 1.11940277        nan        nan]\n",
      " [0.27884088        nan 0.65047706        nan 0.90081448]]\n"
     ]
    },
    {
     "name": "stderr",
     "output_type": "stream",
     "text": [
      "C:\\Users\\2-20\\AppData\\Local\\Temp\\ipykernel_9768\\2344619755.py:1: RuntimeWarning: invalid value encountered in sqrt\n",
      "  print(np.sqrt(sample))\n"
     ]
    }
   ],
   "source": [
    "print(np.sqrt(sample))"
   ]
  },
  {
   "cell_type": "code",
   "execution_count": 115,
   "id": "abc9915a-edc6-441b-a99c-c1b33ef5a5a4",
   "metadata": {},
   "outputs": [
    {
     "name": "stdout",
     "output_type": "stream",
     "text": [
      "[[ True False  True  True False]\n",
      " [False  True  True  True False]\n",
      " [False  True  True  True  True]\n",
      " [False  True False  True  True]\n",
      " [False  True False  True False]]\n"
     ]
    },
    {
     "name": "stderr",
     "output_type": "stream",
     "text": [
      "C:\\Users\\2-20\\AppData\\Local\\Temp\\ipykernel_9768\\2603299333.py:1: RuntimeWarning: invalid value encountered in sqrt\n",
      "  print(np.isnan(np.sqrt(sample)))\n"
     ]
    }
   ],
   "source": [
    "print(np.isnan(np.sqrt(sample)))"
   ]
  },
  {
   "cell_type": "markdown",
   "id": "e90c032c-b859-40f3-af59-02f9b907199b",
   "metadata": {},
   "source": [
    "# !  numpy\n",
    "\n",
    "```\n",
    "import matplotlib.pyplot as plt\n",
    "plt.plot()\n",
    "plt.show()\n",
    ".max()\n",
    ".min()\n",
    ".argmax()\n",
    "```"
   ]
  },
  {
   "cell_type": "code",
   "execution_count": 117,
   "id": "2aa7fe79-a01c-46bc-9a35-af539abed78f",
   "metadata": {},
   "outputs": [],
   "source": [
    "import random"
   ]
  },
  {
   "cell_type": "code",
   "execution_count": 125,
   "id": "e00ae0ae-9349-458b-9b7d-589ea45c0cf0",
   "metadata": {},
   "outputs": [
    {
     "data": {
      "text/plain": [
       "0"
      ]
     },
     "execution_count": 125,
     "metadata": {},
     "output_type": "execute_result"
    }
   ],
   "source": [
    "random.randint(0, 1) #0이나 1중에 1개"
   ]
  },
  {
   "cell_type": "code",
   "execution_count": 135,
   "id": "62e4b4cc-f640-42a3-ad0d-de7faf8de1e1",
   "metadata": {},
   "outputs": [
    {
     "data": {
      "text/plain": [
       "2"
      ]
     },
     "execution_count": 135,
     "metadata": {},
     "output_type": "execute_result"
    }
   ],
   "source": [
    "random.randint(2, 4)"
   ]
  },
  {
   "cell_type": "code",
   "execution_count": 142,
   "id": "737c50ee-6cbe-44ce-b73c-704b07e357ca",
   "metadata": {},
   "outputs": [],
   "source": [
    "position = 0\n",
    "nsteps = 1000\n",
    "walk = []\n",
    "for i in range(nsteps):\n",
    "    if random.randint(0, 1):\n",
    "        step = 1\n",
    "    else:\n",
    "        step = -1\n",
    "    position += step\n",
    "    walk.append(position)"
   ]
  },
  {
   "cell_type": "code",
   "execution_count": 144,
   "id": "5bfe66ac-b68c-4660-ada1-2933fbc1554f",
   "metadata": {},
   "outputs": [
    {
     "name": "stdout",
     "output_type": "stream",
     "text": [
      "[-1, 0, -1, 0, 1, 0, 1, 2, 1, 2, 1, 2, 3, 4, 5, 6, 7, 8, 7, 6, 5, 4, 3, 4, 3, 4, 3, 4, 5, 6, 5, 6, 7, 6, 7, 8, 9, 10, 9, 10, 9, 10, 11, 12, 11, 10, 11, 10, 9, 10, 9, 8, 7, 6, 7, 6, 5, 6, 7, 8, 9, 8, 9, 10, 9, 8, 7, 6, 7, 6, 5, 6, 7, 6, 7, 8, 7, 8, 9, 10, 11, 10, 9, 8, 9, 8, 9, 10, 11, 12, 13, 12, 11, 12, 11, 12, 13, 14, 13, 12, 13, 12, 11, 12, 13, 14, 15, 14, 13, 12, 13, 14, 13, 14, 15, 14, 13, 14, 15, 14, 13, 12, 13, 12, 13, 14, 15, 14, 15, 16, 17, 16, 15, 14, 15, 14, 13, 14, 13, 12, 11, 12, 13, 14, 15, 16, 17, 16, 17, 16, 15, 14, 15, 14, 15, 14, 15, 16, 17, 18, 17, 18, 17, 16, 15, 14, 13, 14, 13, 12, 13, 14, 13, 12, 11, 12, 13, 14, 13, 14, 13, 14, 15, 16, 15, 16, 15, 16, 15, 14, 15, 16, 15, 14, 15, 16, 17, 18, 17, 16, 17, 18, 19, 18, 17, 16, 17, 16, 17, 16, 17, 16, 15, 16, 17, 16, 15, 16, 17, 18, 17, 18, 17, 18, 19, 18, 17, 18, 19, 20, 21, 20, 21, 20, 19, 18, 17, 18, 17, 16, 17, 16, 17, 18, 19, 18, 19, 20, 19, 18, 17, 18, 17, 18, 19, 18, 19, 18, 17, 18, 19, 18, 19, 20, 19, 20, 21, 20, 21, 20, 21, 20, 21, 20, 21, 20, 21, 22, 23, 22, 23, 24, 25, 26, 27, 26, 25, 24, 25, 24, 23, 22, 23, 24, 25, 26, 27, 28, 29, 30, 31, 30, 31, 30, 29, 28, 29, 28, 29, 28, 29, 30, 29, 28, 27, 28, 27, 28, 29, 30, 31, 30, 29, 30, 31, 32, 31, 30, 31, 30, 29, 28, 29, 28, 29, 28, 29, 28, 29, 30, 31, 30, 31, 32, 33, 32, 33, 34, 35, 36, 37, 36, 35, 34, 33, 32, 33, 32, 33, 34, 35, 34, 33, 32, 33, 34, 33, 34, 33, 32, 33, 34, 35, 36, 37, 36, 35, 34, 35, 36, 37, 38, 37, 36, 35, 36, 37, 36, 35, 36, 37, 36, 35, 36, 37, 36, 37, 36, 37, 38, 37, 36, 35, 34, 33, 34, 35, 36, 35, 36, 37, 38, 39, 38, 37, 38, 39, 40, 41, 42, 41, 40, 39, 40, 39, 38, 39, 40, 39, 40, 39, 40, 39, 38, 37, 36, 37, 38, 39, 40, 39, 38, 39, 40, 41, 40, 41, 40, 41, 40, 39, 40, 39, 38, 37, 38, 37, 38, 39, 40, 41, 42, 41, 42, 43, 42, 43, 42, 43, 44, 43, 42, 41, 42, 41, 40, 39, 38, 37, 36, 37, 38, 39, 40, 39, 38, 37, 38, 39, 40, 41, 42, 43, 42, 41, 40, 41, 42, 41, 42, 41, 42, 41, 40, 41, 40, 39, 38, 39, 38, 37, 36, 37, 36, 37, 38, 37, 38, 39, 38, 37, 36, 35, 34, 33, 34, 33, 34, 33, 34, 33, 32, 33, 34, 33, 34, 35, 36, 35, 34, 35, 34, 33, 32, 31, 30, 31, 32, 31, 32, 31, 32, 31, 32, 31, 32, 31, 30, 29, 28, 29, 28, 29, 30, 29, 30, 31, 30, 29, 28, 27, 26, 25, 26, 27, 28, 29, 28, 27, 26, 27, 26, 25, 26, 27, 28, 29, 30, 29, 28, 29, 30, 29, 28, 27, 26, 25, 24, 23, 22, 21, 22, 21, 20, 19, 18, 19, 18, 17, 16, 15, 16, 17, 18, 17, 18, 17, 16, 17, 16, 15, 14, 13, 14, 15, 16, 15, 14, 13, 12, 11, 10, 9, 10, 11, 10, 9, 10, 9, 8, 7, 8, 7, 8, 7, 8, 9, 10, 9, 10, 11, 10, 9, 8, 7, 6, 7, 8, 7, 6, 5, 6, 7, 8, 7, 6, 7, 8, 7, 6, 7, 8, 9, 10, 11, 12, 11, 12, 13, 12, 13, 12, 11, 10, 11, 12, 11, 12, 13, 12, 13, 12, 11, 12, 11, 10, 9, 10, 11, 10, 11, 12, 13, 14, 15, 16, 15, 14, 15, 16, 15, 14, 13, 12, 11, 10, 9, 10, 11, 10, 11, 12, 11, 12, 11, 12, 11, 10, 9, 8, 9, 10, 11, 12, 13, 12, 13, 12, 13, 14, 15, 16, 17, 16, 15, 14, 15, 14, 13, 12, 11, 10, 11, 10, 9, 10, 9, 10, 11, 12, 13, 14, 15, 16, 17, 18, 17, 16, 15, 16, 17, 16, 17, 18, 19, 20, 21, 20, 19, 20, 21, 22, 21, 22, 21, 22, 21, 22, 21, 22, 23, 24, 23, 22, 21, 20, 21, 22, 21, 20, 21, 22, 23, 24, 23, 22, 23, 22, 21, 22, 23, 24, 25, 26, 25, 26, 27, 28, 27, 26, 27, 28, 29, 28, 29, 30, 31, 32, 31, 32, 33, 34, 35, 34, 33, 34, 33, 34, 35, 34, 33, 34, 33, 32, 33, 34, 33, 34, 35, 34, 33, 34, 35, 36, 37, 36, 35, 34, 35, 34, 35, 36, 35, 36, 35, 36, 35, 34, 33, 32, 31, 30, 29, 30, 31, 32, 33, 34, 35, 36, 37, 36, 35, 36, 37, 36, 35, 36, 37, 36, 35, 36, 35, 34, 33, 34, 35, 36, 35, 36, 35, 34, 35, 34, 35, 36, 35, 34, 33, 34, 35, 36, 35, 34, 35, 36, 37, 36, 35, 36, 35, 34, 33, 32, 33, 32, 31, 32, 33, 32, 31, 32, 31, 32, 33, 32, 33, 34, 33, 32, 33, 32, 31, 30, 31, 32, 31, 30, 31, 30, 29, 30, 29, 30, 29, 28, 29, 28, 27, 28, 27, 28, 29, 30, 31, 32, 31, 30, 31, 32, 33, 34, 33, 32, 31, 30, 29, 28, 27, 28, 27, 26, 25, 24, 25, 26, 27, 26, 27, 28, 29, 30, 29, 30, 29, 30, 31, 30, 29, 30]\n"
     ]
    }
   ],
   "source": [
    "print(walk)"
   ]
  },
  {
   "cell_type": "code",
   "execution_count": 146,
   "id": "d084e71d-82c6-49d5-afe1-139f719680c8",
   "metadata": {},
   "outputs": [],
   "source": [
    "walk_arr = np.array(walk)"
   ]
  },
  {
   "cell_type": "code",
   "execution_count": 149,
   "id": "925b3cd1-77e3-4ac8-a718-ab4c1bf00563",
   "metadata": {},
   "outputs": [
    {
     "data": {
      "text/plain": [
       "<Figure size 640x480 with 0 Axes>"
      ]
     },
     "execution_count": 149,
     "metadata": {},
     "output_type": "execute_result"
    },
    {
     "data": {
      "text/plain": [
       "<Figure size 640x480 with 0 Axes>"
      ]
     },
     "metadata": {},
     "output_type": "display_data"
    }
   ],
   "source": [
    "import matplotlib.pyplot as plt\n",
    "plt.figure()"
   ]
  },
  {
   "cell_type": "code",
   "execution_count": 151,
   "id": "2ec4d8b2-8eca-47e6-9297-3d7cea84549e",
   "metadata": {},
   "outputs": [
    {
     "data": {
      "image/png": "[encoded data removed]",
      "text/plain": [
       "<Figure size 640x480 with 1 Axes>"
      ]
     },
     "metadata": {},
     "output_type": "display_data"
    }
   ],
   "source": [
    "plt.plot(walk_arr[:100])\n",
    "plt.show()"
   ]
  },
  {
   "cell_type": "code",
   "execution_count": 154,
   "id": "ca01f046-db6b-428e-84b6-14f4e19546ce",
   "metadata": {},
   "outputs": [
    {
     "name": "stdout",
     "output_type": "stream",
     "text": [
      "14\n",
      "-1\n",
      "1\n"
     ]
    }
   ],
   "source": [
    "print(walk_arr[:100].max())\n",
    "print(walk_arr[:100].min())\n",
    "print( (walk_arr[:100] >= 0).argmax() )"
   ]
  },
  {
   "cell_type": "markdown",
   "id": "eeffc6de-d2d9-4b10-8702-f03056cf38e1",
   "metadata": {},
   "source": [
    "# ! Pandas\n",
    "\n",
    "```\n",
    "pd.Series(arr)\n",
    "dtype ~ int, object\n",
    "index\n",
    "pd.Series(arr + [np.nan])\n",
    "```"
   ]
  },
  {
   "cell_type": "code",
   "execution_count": 155,
   "id": "66d9c418-2a4c-46d4-a48d-d924e79683a7",
   "metadata": {},
   "outputs": [],
   "source": [
    "import pandas as pd"
   ]
  },
  {
   "cell_type": "code",
   "execution_count": 169,
   "id": "e3cd3d4e-1404-47ad-bfdc-3c31a8c49548",
   "metadata": {},
   "outputs": [
    {
     "name": "stdout",
     "output_type": "stream",
     "text": [
      "[100 101 102 103 104]\n"
     ]
    }
   ],
   "source": [
    "arr = np.arange(100, 105)\n",
    "print(arr)"
   ]
  },
  {
   "cell_type": "code",
   "execution_count": 170,
   "id": "14ddc278-5f21-488a-b897-e97091ac0ab2",
   "metadata": {},
   "outputs": [
    {
     "name": "stdout",
     "output_type": "stream",
     "text": [
      "0    100\n",
      "1    101\n",
      "2    102\n",
      "3    103\n",
      "4    104\n",
      "dtype: int64\n"
     ]
    }
   ],
   "source": [
    "s = pd.Series(arr)\n",
    "print(s)"
   ]
  },
  {
   "cell_type": "code",
   "execution_count": 171,
   "id": "bf54070d-6641-4031-bc50-b473bd5ca155",
   "metadata": {},
   "outputs": [
    {
     "name": "stdout",
     "output_type": "stream",
     "text": [
      "0    100\n",
      "1    101\n",
      "2    102\n",
      "3    103\n",
      "4    104\n",
      "dtype: int32\n"
     ]
    }
   ],
   "source": [
    "s = pd.Series(arr, dtype='int32')\n",
    "print(s)"
   ]
  },
  {
   "cell_type": "code",
   "execution_count": 172,
   "id": "024842b4-9eae-4255-84d8-cc8954993514",
   "metadata": {},
   "outputs": [
    {
     "name": "stdout",
     "output_type": "stream",
     "text": [
      "101\n"
     ]
    }
   ],
   "source": [
    "print(s[1])"
   ]
  },
  {
   "cell_type": "code",
   "execution_count": 175,
   "id": "c6c2e316-f8e9-4e05-be27-996cc6a75649",
   "metadata": {},
   "outputs": [
    {
     "data": {
      "text/plain": [
       "a    100\n",
       "b    101\n",
       "c    102\n",
       "d    103\n",
       "e    104\n",
       "dtype: int64"
      ]
     },
     "execution_count": 175,
     "metadata": {},
     "output_type": "execute_result"
    }
   ],
   "source": [
    "pd.Series(arr, index=['a', 'b', 'c', 'd', 'e'])"
   ]
  },
  {
   "cell_type": "code",
   "execution_count": 178,
   "id": "67a389c3-7177-46c0-95bd-02337df1d8f1",
   "metadata": {},
   "outputs": [],
   "source": [
    "arr = np.arange(50, 55)"
   ]
  },
  {
   "cell_type": "code",
   "execution_count": 179,
   "id": "e0ec3f1e-c009-46e5-9f55-f747baf1282b",
   "metadata": {},
   "outputs": [
    {
     "data": {
      "text/plain": [
       "0    50.0\n",
       "1    51.0\n",
       "2    52.0\n",
       "3    53.0\n",
       "4    54.0\n",
       "dtype: float64"
      ]
     },
     "execution_count": 179,
     "metadata": {},
     "output_type": "execute_result"
    }
   ],
   "source": [
    "pd.Series(arr, dtype='float')"
   ]
  },
  {
   "cell_type": "code",
   "execution_count": 189,
   "id": "521a86f6-545b-40fc-9836-d79dca0d8535",
   "metadata": {},
   "outputs": [
    {
     "name": "stdout",
     "output_type": "stream",
     "text": [
      "가    바나나\n",
      "나    NaN\n",
      "다     사과\n",
      "라     포도\n",
      "마    복숭아\n",
      "dtype: object\n"
     ]
    }
   ],
   "source": [
    "fruit = ['바나나', np.nan, '사과', '포도', '복숭아']\n",
    "\n",
    "s = pd.Series(fruit, index=['가', '나', '다', '라', '마'])\n",
    "print(s)"
   ]
  },
  {
   "cell_type": "code",
   "execution_count": 184,
   "id": "802402b1-f076-4283-9ec9-789f9154046c",
   "metadata": {},
   "outputs": [
    {
     "name": "stdout",
     "output_type": "stream",
     "text": [
      "가    바나나\n",
      "나    NaN\n",
      "다     사과\n",
      "dtype: object\n"
     ]
    }
   ],
   "source": [
    "print(s['가':'다'])"
   ]
  },
  {
   "cell_type": "code",
   "execution_count": 188,
   "id": "85ae5db5-8e99-4d9a-8fc8-727f5eca9e1b",
   "metadata": {},
   "outputs": [
    {
     "data": {
      "text/plain": [
       "가    바나나\n",
       "나    NaN\n",
       "다     사과\n",
       "dtype: object"
      ]
     },
     "execution_count": 188,
     "metadata": {},
     "output_type": "execute_result"
    }
   ],
   "source": [
    "s[['가', '나', '다']]"
   ]
  },
  {
   "cell_type": "code",
   "execution_count": null,
   "id": "8b43d7c7-5b38-4261-92d1-6a44a68852c7",
   "metadata": {},
   "outputs": [],
   "source": []
  }
 ],
 "metadata": {
  "kernelspec": {
   "display_name": "Python 3 (ipykernel)",
   "language": "python",
   "name": "python3"
  },
  "language_info": {
   "codemirror_mode": {
    "name": "ipython",
    "version": 3
   },
   "file_extension": ".py",
   "mimetype": "text/x-python",
   "name": "python",
   "nbconvert_exporter": "python",
   "pygments_lexer": "ipython3",
   "version": "3.12.4"
  }
 },
 "nbformat": 4,
 "nbformat_minor": 5
}
